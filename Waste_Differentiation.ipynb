{
  "nbformat": 4,
  "nbformat_minor": 0,
  "metadata": {
    "colab": {
      "provenance": [],
      "toc_visible": true,
      "authorship_tag": "ABX9TyNXyukSwLx8kxfn45K81WA5",
      "include_colab_link": true
    },
    "kernelspec": {
      "name": "python3",
      "display_name": "Python 3"
    },
    "language_info": {
      "name": "python"
    }
  },
  "cells": [
    {
      "cell_type": "markdown",
      "metadata": {
        "id": "view-in-github",
        "colab_type": "text"
      },
      "source": [
        "<a href=\"https://colab.research.google.com/github/Vanshika1021/ML_Katalyst/blob/master/Waste_Differentiation.ipynb\" target=\"_parent\"><img src=\"https://colab.research.google.com/assets/colab-badge.svg\" alt=\"Open In Colab\"/></a>"
      ]
    },
    {
      "cell_type": "code",
      "execution_count": null,
      "metadata": {
        "colab": {
          "base_uri": "https://localhost:8080/"
        },
        "id": "oaCi5p3nSmBr",
        "outputId": "1ec28fcf-dc26-4e57-f054-15de0ad19ec2"
      },
      "outputs": [
        {
          "output_type": "stream",
          "name": "stdout",
          "text": [
            "Material Classifier Accuracy: 0.58\n",
            "Waste Item - Weight: 2.08 kg, Material Type: 3, Classification: Biodegradable\n",
            "Dustbin Status: 12% Full\n",
            "Waste Item - Weight: 2.2 kg, Material Type: 1, Classification: Non-Biodegradable\n",
            "Dustbin Status: 19% Full\n",
            "Waste Item - Weight: 1.4 kg, Material Type: 2, Classification: Biodegradable\n",
            "Dustbin Status: 33% Full\n",
            "Waste Item - Weight: 1.72 kg, Material Type: 2, Classification: Non-Biodegradable\n",
            "Dustbin Status: 42% Full\n",
            "Waste Item - Weight: 3.34 kg, Material Type: 2, Classification: Non-Biodegradable\n",
            "Dustbin Status: 48% Full\n",
            "Waste Item - Weight: 4.76 kg, Material Type: 3, Classification: Biodegradable\n",
            "Dustbin Status: 54% Full\n"
          ]
        },
        {
          "output_type": "stream",
          "name": "stderr",
          "text": [
            "/usr/local/lib/python3.10/dist-packages/sklearn/base.py:493: UserWarning: X does not have valid feature names, but RandomForestClassifier was fitted with feature names\n",
            "  warnings.warn(\n",
            "/usr/local/lib/python3.10/dist-packages/sklearn/base.py:493: UserWarning: X does not have valid feature names, but RandomForestClassifier was fitted with feature names\n",
            "  warnings.warn(\n",
            "/usr/local/lib/python3.10/dist-packages/sklearn/base.py:493: UserWarning: X does not have valid feature names, but RandomForestClassifier was fitted with feature names\n",
            "  warnings.warn(\n",
            "/usr/local/lib/python3.10/dist-packages/sklearn/base.py:493: UserWarning: X does not have valid feature names, but RandomForestClassifier was fitted with feature names\n",
            "  warnings.warn(\n",
            "/usr/local/lib/python3.10/dist-packages/sklearn/base.py:493: UserWarning: X does not have valid feature names, but RandomForestClassifier was fitted with feature names\n",
            "  warnings.warn(\n",
            "/usr/local/lib/python3.10/dist-packages/sklearn/base.py:493: UserWarning: X does not have valid feature names, but RandomForestClassifier was fitted with feature names\n",
            "  warnings.warn(\n",
            "/usr/local/lib/python3.10/dist-packages/sklearn/base.py:493: UserWarning: X does not have valid feature names, but RandomForestClassifier was fitted with feature names\n",
            "  warnings.warn(\n"
          ]
        },
        {
          "output_type": "stream",
          "name": "stdout",
          "text": [
            "Waste Item - Weight: 4.36 kg, Material Type: 2, Classification: Biodegradable\n",
            "Dustbin Status: 62% Full\n",
            "Waste Item - Weight: 1.9 kg, Material Type: 3, Classification: Non-Biodegradable\n",
            "Dustbin Status: 74% Full\n",
            "Waste Item - Weight: 3.71 kg, Material Type: 3, Classification: Non-Biodegradable\n",
            "Dustbin Status: 85% Full\n",
            "Waste Item - Weight: 2.67 kg, Material Type: 1, Classification: Non-Biodegradable\n",
            "Dustbin Status: Full\n",
            "Alert: Dustbin is full! Please empty it.\n"
          ]
        },
        {
          "output_type": "stream",
          "name": "stderr",
          "text": [
            "/usr/local/lib/python3.10/dist-packages/sklearn/base.py:493: UserWarning: X does not have valid feature names, but RandomForestClassifier was fitted with feature names\n",
            "  warnings.warn(\n",
            "/usr/local/lib/python3.10/dist-packages/sklearn/base.py:493: UserWarning: X does not have valid feature names, but RandomForestClassifier was fitted with feature names\n",
            "  warnings.warn(\n",
            "/usr/local/lib/python3.10/dist-packages/sklearn/base.py:493: UserWarning: X does not have valid feature names, but RandomForestClassifier was fitted with feature names\n",
            "  warnings.warn(\n"
          ]
        }
      ],
      "source": [
        "import numpy as np\n",
        "import pandas as pd\n",
        "from sklearn.model_selection import train_test_split\n",
        "from sklearn.ensemble import RandomForestClassifier\n",
        "from sklearn.metrics import accuracy_score\n",
        "import random\n",
        "\n",
        "\n",
        "class SmartDustbin:\n",
        "    def __init__(self):\n",
        "        self.material_classifier = RandomForestClassifier()\n",
        "        self.fullness_level = 0\n",
        "\n",
        "    def train_material_classifier(self, data):\n",
        "        \"\"\"\n",
        "        Train the classifier to distinguish between biodegradable and non-biodegradable.\n",
        "        \"\"\"\n",
        "        X = data[['weight', 'material_type_code']]\n",
        "        y = data['is_biodegradable']\n",
        "        X_train, X_test, y_train, y_test = train_test_split(X, y, test_size=0.2, random_state=42)\n",
        "\n",
        "        self.material_classifier.fit(X_train, y_train)\n",
        "        y_pred = self.material_classifier.predict(X_test)\n",
        "\n",
        "        accuracy = accuracy_score(y_test, y_pred)\n",
        "        print(f\"Material Classifier Accuracy: {accuracy:.2f}\")\n",
        "\n",
        "    def classify_waste(self, weight, material_type_code):\n",
        "        \"\"\"\n",
        "        Classify a waste item as biodegradable or non-biodegradable.\n",
        "        \"\"\"\n",
        "        prediction = self.material_classifier.predict([[weight, material_type_code]])[0]\n",
        "        return \"Biodegradable\" if prediction == 1 else \"Non-Biodegradable\"\n",
        "\n",
        "    def update_fullness(self):\n",
        "        \"\"\"\n",
        "        Simulate fullness level based on random increments.\n",
        "        \"\"\"\n",
        "        self.fullness_level += random.randint(5, 15)\n",
        "        if self.fullness_level > 100:\n",
        "            self.fullness_level = 100\n",
        "\n",
        "    def check_fullness(self):\n",
        "        \"\"\"\n",
        "        Check if the dustbin is full.\n",
        "        \"\"\"\n",
        "        return \"Full\" if self.fullness_level >= 90 else f\"{self.fullness_level}% Full\"\n",
        "\n",
        "\n",
        "def generate_training_data():\n",
        "    data = {\n",
        "        \"weight\": np.random.uniform(0.1, 5.0, 1000),\n",
        "        \"material_type_code\": np.random.randint(1, 4, 1000),\n",
        "        \"is_biodegradable\": [1 if mt == 1 else 0 for mt in np.random.randint(1, 4, 1000)]\n",
        "    }\n",
        "    return pd.DataFrame(data)\n",
        "\n",
        "\n",
        "def simulate_smart_dustbin():\n",
        "    dustbin = SmartDustbin()\n",
        "\n",
        "\n",
        "    training_data = generate_training_data()\n",
        "    dustbin.train_material_classifier(training_data)\n",
        "\n",
        "\n",
        "    for _ in range(10):\n",
        "        weight = round(random.uniform(0.1, 5.0), 2)\n",
        "        material_type_code = random.randint(1, 3)\n",
        "        classification = dustbin.classify_waste(weight, material_type_code)\n",
        "        print(f\"Waste Item - Weight: {weight} kg, Material Type: {material_type_code}, Classification: {classification}\")\n",
        "\n",
        "\n",
        "        dustbin.update_fullness()\n",
        "        print(f\"Dustbin Status: {dustbin.check_fullness()}\")\n",
        "\n",
        "        if dustbin.fullness_level >= 90:\n",
        "            print(\"Alert: Dustbin is full! Please empty it.\")\n",
        "            break\n",
        "\n",
        "if __name__ == \"__main__\":\n",
        "    simulate_smart_dustbin()\n"
      ]
    }
  ]
}